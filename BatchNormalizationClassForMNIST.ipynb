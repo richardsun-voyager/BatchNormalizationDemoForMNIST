{
 "cells": [
  {
   "cell_type": "code",
   "execution_count": 89,
   "metadata": {
    "collapsed": false
   },
   "outputs": [
    {
     "name": "stdout",
     "output_type": "stream",
     "text": [
      "Extracting MNIST_data/train-images-idx3-ubyte.gz\n",
      "Extracting MNIST_data/train-labels-idx1-ubyte.gz\n",
      "Extracting MNIST_data/t10k-images-idx3-ubyte.gz\n",
      "Extracting MNIST_data/t10k-labels-idx1-ubyte.gz\n"
     ]
    }
   ],
   "source": [
    "#Import required packages\n",
    "import tensorflow as tf\n",
    "import numpy as np\n",
    "from matplotlib import pyplot as plt\n",
    "%matplotlib inline\n",
    "#Load MNIST dataset\n",
    "import tensorflow.examples.tutorials.mnist.input_data as input_data\n",
    "mnist = input_data.read_data_sets(\"MNIST_data/\", one_hot=True)"
   ]
  },
  {
   "cell_type": "code",
   "execution_count": 90,
   "metadata": {
    "collapsed": false
   },
   "outputs": [
    {
     "name": "stdout",
     "output_type": "stream",
     "text": [
      "[ 0.  0.  0.  0.  0.  0.  0.  0.  1.  0.]\n"
     ]
    },
    {
     "data": {
      "image/png": "[encoded data removed]",
      "text/plain": [
       "<matplotlib.figure.Figure at 0x195117ec5f8>"
      ]
     },
     "metadata": {},
     "output_type": "display_data"
    }
   ],
   "source": [
    "plt.imshow(mnist.train.images[5].reshape([28, 28]))\n",
    "print(mnist.train.labels[5])"
   ]
  },
  {
   "cell_type": "code",
   "execution_count": 91,
   "metadata": {
    "collapsed": true
   },
   "outputs": [],
   "source": [
    "n_tr = mnist.train.images.shape[0]# number of training samples\n",
    "n_ts = mnist.test.images.shape[0]#number of testing samples\n",
    "n_pixel = mnist.train.images.shape[1]"
   ]
  },
  {
   "cell_type": "markdown",
   "metadata": {},
   "source": [
    "## Batch Nomalization For CNN Model"
   ]
  },
  {
   "cell_type": "code",
   "execution_count": 92,
   "metadata": {
    "collapsed": true
   },
   "outputs": [],
   "source": [
    "#Below code was referred to http://danijar.com/structuring-your-tensorflow-models/\n",
    "import functools\n",
    "def doublewrap(function):\n",
    "    \"\"\"\n",
    "    A decorator decorator, allowing to use the decorator to be used without\n",
    "    parentheses if not arguments are provided. All arguments must be optional.\n",
    "    \"\"\"\n",
    "    @functools.wraps(function)\n",
    "    def decorator(*args, **kwargs):\n",
    "        if len(args) == 1 and len(kwargs) == 0 and callable(args[0]):\n",
    "            return function(args[0])\n",
    "        else:\n",
    "            return lambda wrapee: function(wrapee, *args, **kwargs)\n",
    "    return decorator\n",
    "\n",
    "\n",
    "@doublewrap\n",
    "def define_scope(function, scope=None, *args, **kwargs):\n",
    "    \"\"\"\n",
    "    A decorator for functions that define TensorFlow operations. The wrapped\n",
    "    function will only be executed once. Subsequent calls to it will directly\n",
    "    return the result so that operations are added to the graph only once.\n",
    "\n",
    "    The operations added by the function live within a tf.variable_scope(). If\n",
    "    this decorator is used with arguments, they will be forwarded to the\n",
    "    variable scope. The scope name defaults to the name of the wrapped\n",
    "    function.\n",
    "    \"\"\"\n",
    "    attribute = '_cache_' + function.__name__#Get function name\n",
    "    name = scope or function.__name__\n",
    "    @property\n",
    "    @functools.wraps(function)#Keep the original function\n",
    "    def decorator(self):\n",
    "        if not hasattr(self, attribute):#If the attribute not exist\n",
    "            with tf.variable_scope(name, *args, **kwargs):#Add scope name\n",
    "                setattr(self, attribute, function(self))\n",
    "        return getattr(self, attribute)#otherwise return the attribute\n",
    "    return decorator"
   ]
  },
  {
   "cell_type": "code",
   "execution_count": 93,
   "metadata": {
    "collapsed": true
   },
   "outputs": [],
   "source": [
    "#定义一个MNIST分类的基类\n",
    "class MnistModel:\n",
    "    '''Define a basic model for MNIST image classification, the model\n",
    "    Provides graph structure of tensorflow'''\n",
    "    \n",
    "    def __init__(self, input_holder, target_holder, is_training, keep_prob):\n",
    "        self.input_holder = input_holder\n",
    "        self.target_holder = target_holder\n",
    "        self.is_training = is_training\n",
    "        self.num_pixel = 784\n",
    "        self.num_class = 10\n",
    "        self.keep_prob = keep_prob\n",
    "        self.prediction\n",
    "        self.optimize\n",
    "        self.accuracy\n",
    "        print('Model Initialized!') \n",
    "    \n",
    "    @define_scope(initializer=tf.contrib.slim.xavier_initializer())\n",
    "    def prediction(self):\n",
    "        return None\n",
    "    \n",
    "    @define_scope\n",
    "    def loss(self):\n",
    "        return None\n",
    "    \n",
    "    @define_scope\n",
    "    def optimize(self):\n",
    "        return None\n",
    "    \n",
    "    @define_scope\n",
    "    def accuracy(self):\n",
    "        return None\n",
    "    "
   ]
  },
  {
   "cell_type": "markdown",
   "metadata": {},
   "source": [
    "Reference:https://github.com/ry/tensorflow-resnet/blob/master/resnet.py\n",
    "https://gist.github.com/tomokishii/0ce3bdac1588b5cca9fa5fbdf6e1c412\n",
    "https://r2rt.com/implementing-batch-normalization-in-tensorflow.html"
   ]
  },
  {
   "cell_type": "code",
   "execution_count": 104,
   "metadata": {
    "collapsed": false
   },
   "outputs": [],
   "source": [
    "from tensorflow.python.training import moving_averages\n",
    "from tensorflow.python.ops import control_flow_ops\n",
    "class CnnMnistModel(MnistModel):\n",
    "    #重构某些函数\n",
    "    \n",
    "    @define_scope(initializer=tf.contrib.slim.xavier_initializer())\n",
    "    def prediction(self):\n",
    "        #定义权重和偏置参数变量\n",
    "        logits = self.cnnLayer\n",
    "        return tf.nn.softmax(logits)\n",
    "\n",
    "    @define_scope\n",
    "    def optimize(self):\n",
    "        cross_entropy = self.loss\n",
    "        optimizer = tf.train.AdamOptimizer(1e-4)\n",
    "        return optimizer.minimize(cross_entropy)\n",
    "    \n",
    "    @define_scope\n",
    "    def loss(self):\n",
    "        pred = self.prediction\n",
    "        pred = tf.clip_by_value(pred, 1e-10, 1)\n",
    "        cross_entropy = -tf.reduce_mean(self.target_holder*\n",
    "                                       tf.log(pred))\n",
    "        return cross_entropy\n",
    "\n",
    "    @define_scope\n",
    "    def accuracy(self):\n",
    "        correct_prediction = tf.equal(tf.argmax(self.target_holder,1), \n",
    "                                      tf.argmax(self.prediction,1))\n",
    "        accuracy = tf.reduce_mean(tf.cast(correct_prediction, \"float\"))\n",
    "        return accuracy\n",
    "    \n",
    "    @define_scope\n",
    "    def correct_num(self):\n",
    "        '''Count correct predictions for testing part'''\n",
    "        #labels = tf.one_hot(self.label_holder, self.num_class, 1, 0)\n",
    "        #correct_prediction = tf.equal(tf.argmax(self.target_holder,1), \n",
    "                                    #tf.argmax(self.prediction,1))\n",
    "        #eval_correct = tf.reduce_sum(tf.cast(correct_prediction, \"float\"))\n",
    "        logits = self.cnnLayer\n",
    "        labels = tf.argmax(self.target_holder, 1)\n",
    "        eval_correct=tf.nn.in_top_k(logits,labels,1)\n",
    "        return eval_correct\n",
    "    \n",
    "    @define_scope\n",
    "    def cnnLayer(self):\n",
    "        #Note, we need to share weights here, so variable_scope \n",
    "        #should be specified\n",
    "        x_image = tf.reshape(self.input_holder, [-1,28,28,1])\n",
    "        #First Conv\n",
    "        with tf.variable_scope('hidden1'):\n",
    "            kernel_shape, bias_shape = [5, 5, 1, 32], [32] \n",
    "            h_pool1 = self.conv_relu_bn_pool(x_image, kernel_shape, bias_shape)\n",
    "            #Second variable_scope\n",
    "        with tf.variable_scope('hidden2'):\n",
    "            kernel_shape, bias_shape = [5, 5, 32, 64], [64] \n",
    "            h_pool2 = self.conv_relu_bn_pool(h_pool1, kernel_shape, bias_shape)\n",
    "    \n",
    "        #Fully Connected Layer\n",
    "        with tf.variable_scope('fully_conn'):\n",
    "            W_fc1 = self._get_variable(name='weights', shape=[7 * 7 * 64, 1024])\n",
    "            b_fc1 = self._get_variable(name='bias', shape=[1024])\n",
    "            h_pool2_flat = tf.reshape(h_pool2, [-1, 7*7*64])\n",
    "            h_fc1 = tf.nn.relu(tf.matmul(h_pool2_flat, W_fc1) + b_fc1)\n",
    "        #Dropout, to prevent against overfitting      \n",
    "        h_fc1_drop = tf.nn.dropout(h_fc1, self.keep_prob)\n",
    "        #Softmax Layer\n",
    "        with tf.variable_scope('softmax_layers'):\n",
    "            W_fc2 = self._get_variable(name='weights', shape=[1024, 10])\n",
    "            b_fc2 = self._get_variable(name='bias', shape=[10])\n",
    "            logits = tf.matmul(h_fc1_drop, W_fc2) + b_fc2\n",
    "            \n",
    "        return logits\n",
    "    \n",
    "    #卷积函数\n",
    "    def conv2d(self, x, W):\n",
    "        return tf.nn.conv2d(x, W, strides=[1, 1, 1, 1], padding='SAME')\n",
    "    \n",
    "    #池化函数\n",
    "    def max_pool_2x2(self, x):\n",
    "        return tf.nn.max_pool(x, ksize=[1, 2, 2, 1],\n",
    "                              strides=[1, 2, 2, 1], padding='SAME')\n",
    "\n",
    "    \n",
    "\n",
    "    def _get_variable(self, name,\n",
    "                  shape,\n",
    "                  initializer=None,\n",
    "                  weight_decay=0.0,\n",
    "                  trainable=True):\n",
    "        \"A little wrapper around tf.get_variable to do weight decay and add to\"\n",
    "        \"resnet collection\"   \n",
    "        return tf.get_variable(name,\n",
    "                           shape=shape,\n",
    "                           initializer=initializer,\n",
    "                           dtype=tf.float32,\n",
    "                           trainable=trainable)\n",
    "\n",
    "    def conv_relu_bn_pool(self, x, kernel_shape, bias_shape):\n",
    "        # Create variable named \"weights\".\n",
    "        initializer = tf.random_uniform_initializer(-0.01, 0.01)\n",
    "        weights = self._get_variable('conv_weights', kernel_shape, \n",
    "                                     initializer=initializer)\n",
    "        # Create variable named \"biases\".\n",
    "        biases = self._get_variable('conv_bias', bias_shape, \n",
    "                                     initializer=initializer)\n",
    "        conv = self.conv2d(x, weights)\n",
    "        bn = self.batch_normalization(conv+ biases)\n",
    "        relu = tf.nn.relu(bn)\n",
    "        pool = self.max_pool_2x2(relu)\n",
    "        return pool\n",
    "    \n",
    "\n",
    "\n",
    "    def batch_normalization(self, x):\n",
    "        x_shape = x.get_shape()\n",
    "        params_shape = x_shape[-1:]\n",
    "        axis = list(range(len(x_shape) - 1))\n",
    "        #The bias for batch normalization\n",
    "        beta = self._get_variable('beta',\n",
    "                             params_shape,\n",
    "                             initializer=tf.zeros_initializer)\n",
    "        #The scale of batch normalization\n",
    "        gamma = self._get_variable('gamma',\n",
    "                              params_shape,\n",
    "                              initializer=tf.ones_initializer)\n",
    "        #Record moving average for testing\n",
    "        moving_mean = self._get_variable('moving_mean',\n",
    "                                    params_shape,\n",
    "                                    initializer=tf.zeros_initializer,\n",
    "                                    trainable=False)\n",
    "        #Record moving average for testing\n",
    "        moving_variance = self._get_variable('moving_variance',\n",
    "                                    params_shape,\n",
    "                                    initializer=tf.ones_initializer,\n",
    "                                    trainable=False)  \n",
    "        # These ops will only be preformed when training.\n",
    "        mean, variance = tf.nn.moments(x, axis)\n",
    "        #Update moving averages\n",
    "        update_moving_mean = moving_averages.assign_moving_average(moving_mean,\n",
    "                                                               mean, 0.9997)\n",
    "        update_moving_variance = moving_averages.assign_moving_average(moving_variance, \n",
    "                                                                       variance, 0.9997)\n",
    "      \n",
    "        if self.is_training:\n",
    "            mean, variance = mean, variance\n",
    "        else:\n",
    "            mean, variance = moving_mean, moving_variance \n",
    "        x = tf.nn.batch_normalization(x, mean, variance, beta, gamma, 0.001)\n",
    "        return x"
   ]
  },
  {
   "cell_type": "code",
   "execution_count": 108,
   "metadata": {
    "collapsed": false,
    "scrolled": true
   },
   "outputs": [
    {
     "name": "stdout",
     "output_type": "stream",
     "text": [
      "Model Initialized!\n",
      "Model Initialized!\n"
     ]
    }
   ],
   "source": [
    "batch_size = 64\n",
    "num_pixel = 784\n",
    "num_class = 10\n",
    "tf.reset_default_graph() \n",
    "graph = tf.Graph()\n",
    "\n",
    "with graph.as_default():\n",
    "    #定义feed数据\n",
    "    #定义输入数据\n",
    "    input_holder = tf.placeholder(tf.float32, [None, num_pixel])\n",
    "    #输入数据对应标签\n",
    "    target_holder = tf.placeholder(tf.float32, [None,num_class])\n",
    "    initializer = tf.random_uniform_initializer(-0.01, 0.01)\n",
    "    with tf.variable_scope('CNN', reuse=None, initializer=initializer):\n",
    "        train_model = CnnMnistModel(input_holder, target_holder, True, 0.5)\n",
    "    with tf.variable_scope('CNN', reuse=True, initializer=initializer):\n",
    "        test_model = CnnMnistModel(input_holder, target_holder, False, 1)"
   ]
  },
  {
   "cell_type": "code",
   "execution_count": 109,
   "metadata": {
    "collapsed": false
   },
   "outputs": [
    {
     "name": "stdout",
     "output_type": "stream",
     "text": [
      "Loss:0.28169 Accuracy:0.06250\n",
      "Loss:0.00956 Accuracy:0.95312\n",
      "Testing Accuracy： 0.0997\n"
     ]
    }
   ],
   "source": [
    "epochs = 1\n",
    "batch_size = 64\n",
    "num_steps = int(n_tr/batch_size)\n",
    "#Create a session\n",
    "with tf.Session(graph=graph) as sess:\n",
    "    #Initialize variables\n",
    "    init_op = tf.global_variables_initializer()\n",
    "    sess.run(init_op)\n",
    "    #Train the data\n",
    "    for _ in range(epochs):\n",
    "        for step in range(num_steps):\n",
    "            batch_data, batch_labels = mnist.train.next_batch(batch_size)\n",
    "            feed_dict = {input_holder : batch_data, target_holder: batch_labels}\n",
    "            #Train\n",
    "            _, l, a = sess.run([train_model.optimize, train_model.loss, train_model.accuracy], feed_dict=feed_dict)\n",
    "            if step%500 == 0:\n",
    "                print('Loss:{:.5f}'.format(l), 'Accuracy:{:.5f}'.format(a))\n",
    "    \n",
    "    count = 0    \n",
    "    for _ in range(200):\n",
    "        batch_data, batch_labels = mnist.test.next_batch(50)\n",
    "        feed_dict = {input_holder : batch_data, target_holder: batch_labels}\n",
    "        cp = sess.run(test_model.correct_num, feed_dict=feed_dict)\n",
    "        count += np.sum(cp)\n",
    "    print(\"Testing Accuracy：\", count/n_ts)\n"
   ]
  },
  {
   "cell_type": "code",
   "execution_count": null,
   "metadata": {
    "collapsed": true
   },
   "outputs": [],
   "source": []
  }
 ],
 "metadata": {
  "anaconda-cloud": {},
  "kernelspec": {
   "display_name": "Python [default]",
   "language": "python",
   "name": "python3"
  },
  "language_info": {
   "codemirror_mode": {
    "name": "ipython",
    "version": 3
   },
   "file_extension": ".py",
   "mimetype": "text/x-python",
   "name": "python",
   "nbconvert_exporter": "python",
   "pygments_lexer": "ipython3",
   "version": "3.5.2"
  }
 },
 "nbformat": 4,
 "nbformat_minor": 2
}
